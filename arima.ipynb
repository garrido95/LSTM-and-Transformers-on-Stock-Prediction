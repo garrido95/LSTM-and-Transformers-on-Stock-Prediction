{
 "cells": [
  {
   "cell_type": "code",
   "execution_count": 2,
   "metadata": {},
   "outputs": [
    {
     "name": "stdout",
     "output_type": "stream",
     "text": [
      "[*********************100%%**********************]  1 of 1 completed\n",
      "                  Open        High         Low       Close   Adj Close  \\\n",
      "Date                                                                     \n",
      "2020-12-31  163.750000  164.145996  162.059998  162.846497  162.846497   \n",
      "2021-01-04  163.500000  163.600006  157.201004  159.331497  159.331497   \n",
      "2021-01-05  158.300507  161.169006  158.253006  160.925507  160.925507   \n",
      "2021-01-06  157.324005  159.875504  156.557999  156.919006  156.919006   \n",
      "2021-01-07  157.850006  160.427002  157.750000  158.108002  158.108002   \n",
      "...                ...         ...         ...         ...         ...   \n",
      "2023-12-22  153.770004  154.350006  152.710007  153.419998  153.419998   \n",
      "2023-12-26  153.559998  153.979996  153.029999  153.410004  153.410004   \n",
      "2023-12-27  153.559998  154.779999  153.119995  153.339996  153.339996   \n",
      "2023-12-28  153.720001  154.080002  152.949997  153.380005  153.380005   \n",
      "2023-12-29  153.100006  153.889999  151.029999  151.940002  151.940002   \n",
      "\n",
      "              Volume  \n",
      "Date                  \n",
      "2020-12-31  59144000  \n",
      "2021-01-04  88228000  \n",
      "2021-01-05  53110000  \n",
      "2021-01-06  87896000  \n",
      "2021-01-07  70290000  \n",
      "...              ...  \n",
      "2023-12-22  29480100  \n",
      "2023-12-26  25067200  \n",
      "2023-12-27  31434700  \n",
      "2023-12-28  27057000  \n",
      "2023-12-29  39789000  \n",
      "\n",
      "[754 rows x 6 columns]\n"
     ]
    }
   ],
   "source": [
    "import yfinance as yf\n",
    "from datetime import datetime, timedelta\n",
    "\n",
    "def download_stock_data(ticker, years_back):\n",
    "    end_date = datetime(2023, 12, 31)\n",
    "    start_date = end_date - timedelta(days=years_back * 365)\n",
    "\n",
    "    data = yf.download(ticker, start=start_date, end=end_date)\n",
    "    return data\n",
    "\n",
    "# Example Usage\n",
    "ticker = 'AMZN'  # Replace with the desired ticker symbol\n",
    "years_back = 3\n",
    "historical_data = download_stock_data(ticker, years_back)\n",
    "print(historical_data)"
   ]
  },
  {
   "cell_type": "code",
   "execution_count": 3,
   "metadata": {},
   "outputs": [
    {
     "name": "stdout",
     "output_type": "stream",
     "text": [
      "Estadística de prueba de Dickey-Fuller: -1.6268211732094386\n",
      "Valor crítico al 1%: -3.4390641198617864\n",
      "Valor crítico al 5%: -2.8653859408474482\n",
      "Valor crítico al 10%: -2.5688179819544312\n",
      "P-valor: 0.4691550717125605\n",
      "La serie no es estacionaria.\n"
     ]
    }
   ],
   "source": [
    "import pandas as pd\n",
    "from statsmodels.tsa.stattools import adfuller\n",
    "\n",
    "\n",
    "close_series = historical_data['Close']\n",
    "\n",
    "# Realiza la prueba de Dickey-Fuller\n",
    "result = adfuller(close_series)\n",
    "\n",
    "# Imprime el resultado\n",
    "print(\"Estadística de prueba de Dickey-Fuller:\", result[0])\n",
    "print(\"Valor crítico al 1%:\", result[4]['1%'])\n",
    "print(\"Valor crítico al 5%:\", result[4]['5%'])\n",
    "print(\"Valor crítico al 10%:\", result[4]['10%'])\n",
    "print(\"P-valor:\", result[1])\n",
    "\n",
    "# Comprueba si la serie es estacionaria\n",
    "if result[1] <= 0.05:\n",
    "    print(\"La serie es estacionaria.\")\n",
    "else:\n",
    "    print(\"La serie no es estacionaria.\")\n"
   ]
  },
  {
   "cell_type": "code",
   "execution_count": 4,
   "metadata": {},
   "outputs": [
    {
     "name": "stdout",
     "output_type": "stream",
     "text": [
      "Estadística de prueba de Dickey-Fuller: -27.606479555080753\n",
      "Valor crítico al 1%: -3.439075747702915\n",
      "Valor crítico al 5%: -2.8653910653234655\n",
      "Valor crítico al 10%: -2.568820711931304\n",
      "P-valor: 0.0\n"
     ]
    }
   ],
   "source": [
    "# Diferenciación de primer orden\n",
    "close_series_diff = close_series.diff().dropna()\n",
    "\n",
    "# Realiza la prueba de Dickey-Fuller en la serie diferenciada\n",
    "result_diff = adfuller(close_series_diff)\n",
    "# Imprime el resultado\n",
    "print(\"Estadística de prueba de Dickey-Fuller:\", result_diff[0])\n",
    "print(\"Valor crítico al 1%:\", result_diff[4]['1%'])\n",
    "print(\"Valor crítico al 5%:\", result_diff[4]['5%'])\n",
    "print(\"Valor crítico al 10%:\", result_diff[4]['10%'])\n",
    "print(\"P-valor:\", result_diff[1])"
   ]
  },
  {
   "cell_type": "code",
   "execution_count": 5,
   "metadata": {},
   "outputs": [],
   "source": [
    "import pandas as pd\n",
    "from statsmodels.tsa.arima.model import ARIMA\n",
    "\n",
    "# Asegúrate de que la fecha sea el índice\n",
    "historical_data.index = pd.to_datetime(historical_data.index)\n",
    "\n",
    "# Dividir los datos en entrenamiento y prueba\n",
    "train_data = historical_data['Close'][:-60]\n",
    "test_data = historical_data['Close'][-60:]\n",
    "\n",
    "\n",
    "\n",
    "\n"
   ]
  },
  {
   "cell_type": "code",
   "execution_count": 6,
   "metadata": {},
   "outputs": [
    {
     "name": "stdout",
     "output_type": "stream",
     "text": [
      "Performing stepwise search to minimize aic\n",
      " ARIMA(2,1,0)(0,0,0)[0] intercept   : AIC=3554.449, Time=0.07 sec\n",
      " ARIMA(0,1,0)(0,0,0)[0] intercept   : AIC=3550.535, Time=0.01 sec\n",
      " ARIMA(1,1,0)(0,0,0)[0] intercept   : AIC=3552.514, Time=0.05 sec\n",
      " ARIMA(0,1,1)(0,0,0)[0] intercept   : AIC=3552.514, Time=0.05 sec\n",
      " ARIMA(0,1,0)(0,0,0)[0]             : AIC=3548.725, Time=0.02 sec\n",
      " ARIMA(1,1,1)(0,0,0)[0] intercept   : AIC=3553.797, Time=0.25 sec\n",
      "\n",
      "Best model:  ARIMA(0,1,0)(0,0,0)[0]          \n",
      "Total fit time: 0.451 seconds\n"
     ]
    }
   ],
   "source": [
    "from pmdarima import auto_arima\n",
    "\n",
    "model_autoARIMA = auto_arima(train_data, star_p=0, start_q=0,\n",
    "                             test='adf',\n",
    "                             max_p=7, max_q=7,\n",
    "                             m=1,\n",
    "                             d=None,\n",
    "                             seasonal=False,\n",
    "                             start_P=0,\n",
    "                             D=0,\n",
    "                             trace=True,\n",
    "                             error_action='ignore',\n",
    "                             suppress_warnings=True,\n",
    "                             stepwise=True                             )\n",
    "\n",
    "best_p = model_autoARIMA.order[0]\n",
    "best_d = model_autoARIMA.order[1]\n",
    "best_q = model_autoARIMA.order[2]"
   ]
  },
  {
   "cell_type": "code",
   "execution_count": 7,
   "metadata": {},
   "outputs": [
    {
     "name": "stdout",
     "output_type": "stream",
     "text": [
      "724    143.199997\n",
      "725    143.199997\n",
      "726    143.199997\n",
      "727    143.199997\n",
      "728    143.199997\n",
      "729    143.199997\n",
      "730    143.199997\n",
      "731    143.199997\n",
      "732    143.199997\n",
      "733    143.199997\n",
      "734    143.199997\n",
      "735    143.199997\n",
      "736    143.199997\n",
      "737    143.199997\n",
      "738    143.199997\n",
      "739    143.199997\n",
      "740    143.199997\n",
      "741    143.199997\n",
      "742    143.199997\n",
      "743    143.199997\n",
      "744    143.199997\n",
      "745    143.199997\n",
      "746    143.199997\n",
      "747    143.199997\n",
      "748    143.199997\n",
      "749    143.199997\n",
      "750    143.199997\n",
      "751    143.199997\n",
      "752    143.199997\n",
      "753    143.199997\n",
      "Name: predicted_mean, dtype: float64\n"
     ]
    },
    {
     "name": "stderr",
     "output_type": "stream",
     "text": [
      "c:\\Users\\fjgar\\anaconda3\\envs\\tf\\lib\\site-packages\\statsmodels\\tsa\\base\\tsa_model.py:473: ValueWarning: A date index has been provided, but it has no associated frequency information and so will be ignored when e.g. forecasting.\n",
      "  self._init_dates(dates, freq)\n",
      "c:\\Users\\fjgar\\anaconda3\\envs\\tf\\lib\\site-packages\\statsmodels\\tsa\\base\\tsa_model.py:473: ValueWarning: A date index has been provided, but it has no associated frequency information and so will be ignored when e.g. forecasting.\n",
      "  self._init_dates(dates, freq)\n",
      "c:\\Users\\fjgar\\anaconda3\\envs\\tf\\lib\\site-packages\\statsmodels\\tsa\\base\\tsa_model.py:473: ValueWarning: A date index has been provided, but it has no associated frequency information and so will be ignored when e.g. forecasting.\n",
      "  self._init_dates(dates, freq)\n",
      "c:\\Users\\fjgar\\anaconda3\\envs\\tf\\lib\\site-packages\\statsmodels\\tsa\\base\\tsa_model.py:836: ValueWarning: No supported index is available. Prediction results will be given with an integer index beginning at `start`.\n",
      "  return get_prediction_index(\n",
      "c:\\Users\\fjgar\\anaconda3\\envs\\tf\\lib\\site-packages\\statsmodels\\tsa\\base\\tsa_model.py:836: FutureWarning: No supported index is available. In the next version, calling this method in a model without a supported index will result in an exception.\n",
      "  return get_prediction_index(\n",
      "c:\\Users\\fjgar\\anaconda3\\envs\\tf\\lib\\site-packages\\statsmodels\\tsa\\statespace\\representation.py:374: FutureWarning: Unknown keyword arguments: dict_keys(['typ']).Passing unknown keyword arguments will raise a TypeError beginning in version 0.15.\n",
      "  warnings.warn(msg, FutureWarning)\n"
     ]
    }
   ],
   "source": [
    "import pandas as pd\n",
    "import numpy as np\n",
    "import statsmodels.api as sm\n",
    "\n",
    "\n",
    "historical_data.index = pd.to_datetime(historical_data.index)\n",
    "\n",
    "\n",
    "historical_data['Close'] = pd.to_numeric(historical_data['Close'], errors='coerce').fillna(0)\n",
    "\n",
    "# División Train/Test\n",
    "train_data = historical_data['Close'].iloc[:-30]  # Por ejemplo, deja los últimos 30 días para prueba\n",
    "test_data = historical_data['Close'].iloc[-30:]\n",
    "\n",
    "# Crea y entrena el modelo ARIMA con los parámetros mencionados\n",
    "model = sm.tsa.ARIMA(train_data, order=(best_p, best_d, best_q))\n",
    "results = model.fit()\n",
    "\n",
    "# Realiza predicciones en el conjunto de prueba\n",
    "predictions = results.predict(start=len(train_data), end=len(train_data) + len(test_data) - 1, typ='levels')\n",
    "\n",
    "\n",
    "print(predictions)\n",
    "\n"
   ]
  },
  {
   "cell_type": "code",
   "execution_count": 8,
   "metadata": {},
   "outputs": [
    {
     "name": "stdout",
     "output_type": "stream",
     "text": [
      "Mean Squared Error (MSE): 39.6957915645636\n",
      "Mean Absolute Error (MAE): 5.32933603922526\n",
      "Mean Absolute Percentage Error (MAPE): 3.54%\n"
     ]
    }
   ],
   "source": [
    "from sklearn.metrics import mean_squared_error, mean_absolute_error,mean_absolute_percentage_error\n",
    "\n",
    "# Calcula el error cuadrático medio (MSE)\n",
    "mse = mean_squared_error(test_data, predictions)\n",
    "print(f'Mean Squared Error (MSE): {mse}')\n",
    "\n",
    "# Calcula el error absoluto medio (MAE)\n",
    "mae = mean_absolute_error(test_data, predictions)\n",
    "print(f'Mean Absolute Error (MAE): {mae}')\n",
    "\n",
    "# Calcula el MAPE\n",
    "mape = mean_absolute_percentage_error(test_data, predictions)\n",
    "# Imprime el resultado\n",
    "print(f'Mean Absolute Percentage Error (MAPE): {mape*100:.2f}%')"
   ]
  }
 ],
 "metadata": {
  "kernelspec": {
   "display_name": "tf",
   "language": "python",
   "name": "python3"
  },
  "language_info": {
   "codemirror_mode": {
    "name": "ipython",
    "version": 3
   },
   "file_extension": ".py",
   "mimetype": "text/x-python",
   "name": "python",
   "nbconvert_exporter": "python",
   "pygments_lexer": "ipython3",
   "version": "3.9.18"
  }
 },
 "nbformat": 4,
 "nbformat_minor": 2
}
